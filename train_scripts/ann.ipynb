{
 "cells": [
  {
   "cell_type": "code",
   "execution_count": 10,
   "metadata": {},
   "outputs": [
    {
     "data": {
      "text/html": [
       "<div>\n",
       "<style scoped>\n",
       "    .dataframe tbody tr th:only-of-type {\n",
       "        vertical-align: middle;\n",
       "    }\n",
       "\n",
       "    .dataframe tbody tr th {\n",
       "        vertical-align: top;\n",
       "    }\n",
       "\n",
       "    .dataframe thead th {\n",
       "        text-align: right;\n",
       "    }\n",
       "</style>\n",
       "<table border=\"1\" class=\"dataframe\">\n",
       "  <thead>\n",
       "    <tr style=\"text-align: right;\">\n",
       "      <th></th>\n",
       "      <th>Air temperature [K]</th>\n",
       "      <th>Process temperature [K]</th>\n",
       "      <th>Rotational speed [rpm]</th>\n",
       "      <th>Torque [Nm]</th>\n",
       "      <th>Tool wear [min]</th>\n",
       "      <th>Machine failure</th>\n",
       "      <th>TWF</th>\n",
       "      <th>HDF</th>\n",
       "      <th>PWF</th>\n",
       "      <th>OSF</th>\n",
       "      <th>RNF</th>\n",
       "      <th>Type_H</th>\n",
       "      <th>Type_L</th>\n",
       "      <th>Type_M</th>\n",
       "    </tr>\n",
       "  </thead>\n",
       "  <tbody>\n",
       "    <tr>\n",
       "      <th>0</th>\n",
       "      <td>0.395880</td>\n",
       "      <td>-0.246230</td>\n",
       "      <td>0.545416</td>\n",
       "      <td>-0.499711</td>\n",
       "      <td>0.556417</td>\n",
       "      <td>0.0</td>\n",
       "      <td>0.0</td>\n",
       "      <td>0.0</td>\n",
       "      <td>0.0</td>\n",
       "      <td>0.0</td>\n",
       "      <td>0.0</td>\n",
       "      <td>0.0</td>\n",
       "      <td>1.0</td>\n",
       "      <td>0.0</td>\n",
       "    </tr>\n",
       "    <tr>\n",
       "      <th>1</th>\n",
       "      <td>1.469856</td>\n",
       "      <td>1.558605</td>\n",
       "      <td>1.720308</td>\n",
       "      <td>-1.323028</td>\n",
       "      <td>1.494433</td>\n",
       "      <td>0.0</td>\n",
       "      <td>0.0</td>\n",
       "      <td>0.0</td>\n",
       "      <td>0.0</td>\n",
       "      <td>0.0</td>\n",
       "      <td>0.0</td>\n",
       "      <td>0.0</td>\n",
       "      <td>0.0</td>\n",
       "      <td>1.0</td>\n",
       "    </tr>\n",
       "    <tr>\n",
       "      <th>2</th>\n",
       "      <td>-0.302204</td>\n",
       "      <td>-1.040358</td>\n",
       "      <td>2.051873</td>\n",
       "      <td>-1.628831</td>\n",
       "      <td>-1.241447</td>\n",
       "      <td>0.0</td>\n",
       "      <td>0.0</td>\n",
       "      <td>0.0</td>\n",
       "      <td>0.0</td>\n",
       "      <td>0.0</td>\n",
       "      <td>0.0</td>\n",
       "      <td>0.0</td>\n",
       "      <td>1.0</td>\n",
       "      <td>0.0</td>\n",
       "    </tr>\n",
       "    <tr>\n",
       "      <th>3</th>\n",
       "      <td>0.610675</td>\n",
       "      <td>0.692284</td>\n",
       "      <td>0.026445</td>\n",
       "      <td>0.464745</td>\n",
       "      <td>1.447532</td>\n",
       "      <td>0.0</td>\n",
       "      <td>0.0</td>\n",
       "      <td>0.0</td>\n",
       "      <td>0.0</td>\n",
       "      <td>0.0</td>\n",
       "      <td>0.0</td>\n",
       "      <td>0.0</td>\n",
       "      <td>1.0</td>\n",
       "      <td>0.0</td>\n",
       "    </tr>\n",
       "    <tr>\n",
       "      <th>4</th>\n",
       "      <td>-1.000288</td>\n",
       "      <td>-0.679391</td>\n",
       "      <td>0.869773</td>\n",
       "      <td>-0.582043</td>\n",
       "      <td>-1.100744</td>\n",
       "      <td>0.0</td>\n",
       "      <td>0.0</td>\n",
       "      <td>0.0</td>\n",
       "      <td>0.0</td>\n",
       "      <td>0.0</td>\n",
       "      <td>0.0</td>\n",
       "      <td>0.0</td>\n",
       "      <td>0.0</td>\n",
       "      <td>1.0</td>\n",
       "    </tr>\n",
       "  </tbody>\n",
       "</table>\n",
       "</div>"
      ],
      "text/plain": [
       "   Air temperature [K]  Process temperature [K]  Rotational speed [rpm]  \\\n",
       "0             0.395880                -0.246230                0.545416   \n",
       "1             1.469856                 1.558605                1.720308   \n",
       "2            -0.302204                -1.040358                2.051873   \n",
       "3             0.610675                 0.692284                0.026445   \n",
       "4            -1.000288                -0.679391                0.869773   \n",
       "\n",
       "   Torque [Nm]  Tool wear [min]  Machine failure  TWF  HDF  PWF  OSF  RNF  \\\n",
       "0    -0.499711         0.556417              0.0  0.0  0.0  0.0  0.0  0.0   \n",
       "1    -1.323028         1.494433              0.0  0.0  0.0  0.0  0.0  0.0   \n",
       "2    -1.628831        -1.241447              0.0  0.0  0.0  0.0  0.0  0.0   \n",
       "3     0.464745         1.447532              0.0  0.0  0.0  0.0  0.0  0.0   \n",
       "4    -0.582043        -1.100744              0.0  0.0  0.0  0.0  0.0  0.0   \n",
       "\n",
       "   Type_H  Type_L  Type_M  \n",
       "0     0.0     1.0     0.0  \n",
       "1     0.0     0.0     1.0  \n",
       "2     0.0     1.0     0.0  \n",
       "3     0.0     1.0     0.0  \n",
       "4     0.0     0.0     1.0  "
      ]
     },
     "execution_count": 10,
     "metadata": {},
     "output_type": "execute_result"
    }
   ],
   "source": [
    "# Import libraries\n",
    "from sklearn import datasets, svm\n",
    "from sklearn.metrics import confusion_matrix,ConfusionMatrixDisplay\n",
    "from sklearn.preprocessing import StandardScaler\n",
    "import pandas as pd\n",
    "import numpy as np\n",
    "import matplotlib.pyplot as plt\n",
    "from matplotlib.cm import get_cmap\n",
    "\n",
    "# Read oversampled_data.csv\n",
    "oversampled_data = pd.read_csv('../data/oversampled_data.csv').iloc[:,1:]\n",
    "oversampled_data.head()"
   ]
  },
  {
   "cell_type": "code",
   "execution_count": 17,
   "metadata": {},
   "outputs": [
    {
     "data": {
      "text/plain": [
       "216567"
      ]
     },
     "execution_count": 17,
     "metadata": {},
     "output_type": "execute_result"
    }
   ],
   "source": [
    "# Implement Dataset\n",
    "from torch import Tensor\n",
    "from torch.utils.data import Dataset, DataLoader\n",
    "\n",
    "from sklearn.model_selection import train_test_split\n",
    "\n",
    "X = oversampled_data.drop('Machine failure', axis=1).values\n",
    "y = oversampled_data['Machine failure'].values\n",
    "\n",
    "X_train, X_test, y_train, y_test = train_test_split(X,y, test_size=0.2, random_state=1, stratify = y) \n",
    "\n",
    "# Define a custom dataset class\n",
    "class MyDataset(Dataset):\n",
    "    def __init__(self,X, y):\n",
    "        self.data = Tensor(X)\n",
    "        self.labels = Tensor(y)\n",
    "\n",
    "    def __len__(self):\n",
    "        # Return the total number of samples in the dataset\n",
    "        return len(self.data)\n",
    "\n",
    "    def __getitem__(self, idx):\n",
    "        # Retrieve a sample and its corresponding label at the given index\n",
    "        sample = self.data[idx]\n",
    "        label = self.labels[idx]\n",
    "        return sample, label\n",
    "\n",
    "train_dataset = MyDataset(X_train, y_train)\n",
    "len(train_dataset)"
   ]
  },
  {
   "cell_type": "code",
   "execution_count": 71,
   "metadata": {},
   "outputs": [],
   "source": [
    "# Implement training loop\n",
    "from torch.nn import MSELoss, CrossEntropyLoss, KLDivLoss\n",
    "from torch.optim import SGD, Adam\n",
    "\n",
    "def train(model, X_train , y_train, num_batches, epochs=10):\n",
    "    '''\n",
    "        Train the given model using the given (x,y) data.\n",
    "    '''\n",
    "    batch_size = int(round(len(X_train)/num_batches))\n",
    "    optimizer = SGD(model.parameters(), lr=1e-4/batch_size, momentum=0.95)\n",
    "    # optimizer = torch.optim.Adam(model.parameters(), lr=1e-1/batch_size, betas=(0.85,0.9))\n",
    "    criterion = KLDivLoss()\n",
    "    print('### Training for {} epochs, training size = {} cases'.\n",
    "          format(epochs, len(X_train)))\n",
    "    for t in range(epochs):\n",
    "        # Initialize dataset\n",
    "        train_dataset = MyDataset(X_train, y_train)\n",
    "        # Initalize DataLoader\n",
    "        dataloader = DataLoader(train_dataset, batch_size=batch_size)\n",
    "        print(f'#--------------#\\n# Epoch {t+1} of {epochs} #\\n#--------------#')\n",
    "        iterator = iter(dataloader)\n",
    "        # Process each mini-batch in turn:\n",
    "        for i in range(num_batches):\n",
    "            # print(f\"----------------\\n| Batch {i+1} of {num_batches} |\\n----------------\")\n",
    "            X, y = next(iterator)\n",
    "            # Zero gradients\n",
    "            optimizer.zero_grad()\n",
    "            # Perform first forward pass and optimize linear consequent parameters\n",
    "            for i in range(X.shape[1]):\n",
    "                y_pred = model(X[i,:])\n",
    "                y_actual = y[i]\n",
    "                # Compute loss\n",
    "                loss = criterion(y_pred, y_actual)\n",
    "                # Propagate gradients backward\n",
    "                loss.backward()\n",
    "            # Compute batch gradient to update cmf values\n",
    "            optimizer.step()"
   ]
  },
  {
   "cell_type": "code",
   "execution_count": 96,
   "metadata": {},
   "outputs": [
    {
     "name": "stdout",
     "output_type": "stream",
     "text": [
      "### Training for 5 epochs, training size = 216567 cases\n",
      "#--------------#\n",
      "# Epoch 1 of 5 #\n",
      "#--------------#\n"
     ]
    },
    {
     "name": "stderr",
     "output_type": "stream",
     "text": [
      "c:\\Users\\valer\\OneDrive\\Desktop\\GitHub Projects\\kaggle-challenge-machine-failure\\ML\\lib\\site-packages\\torch\\nn\\functional.py:2943: UserWarning: reduction: 'mean' divides the total loss by both the batch size and the support size.'batchmean' divides only by the batch size, and aligns with the KL div math definition.'mean' will be changed to behave the same as 'batchmean' in the next major release.\n",
      "  warnings.warn(\n"
     ]
    },
    {
     "name": "stdout",
     "output_type": "stream",
     "text": [
      "#--------------#\n",
      "# Epoch 2 of 5 #\n",
      "#--------------#\n",
      "#--------------#\n",
      "# Epoch 3 of 5 #\n",
      "#--------------#\n",
      "#--------------#\n",
      "# Epoch 4 of 5 #\n",
      "#--------------#\n",
      "#--------------#\n",
      "# Epoch 5 of 5 #\n",
      "#--------------#\n"
     ]
    }
   ],
   "source": [
    "from torch import nn, Tensor, tanh, sigmoid, relu\n",
    "\n",
    "# Construct ANN for classification\n",
    "class ANN(nn.Module):\n",
    "    def __init__(self):\n",
    "        super().__init__()\n",
    "        self.l1 = nn.Linear(13,9)\n",
    "        self.l2 = nn.Linear(9,1)\n",
    "        # self.l3 = nn.Linear(26,13)\n",
    "        # self.l4 = nn.Linear(13,1)\n",
    "    \n",
    "    def forward(self,x):\n",
    "        x = relu(self.l1(x))  \n",
    "        x = sigmoid(self.l2(x))  \n",
    "        # x = tanh(self.l3(x))\n",
    "        # x = sigmoid(self.l4(x))\n",
    "        return x\n",
    "\n",
    "model = ANN()\n",
    "train(model, X_train , y_train, num_batches = 1, epochs=5)"
   ]
  },
  {
   "cell_type": "markdown",
   "metadata": {},
   "source": [
    "#### Train results"
   ]
  },
  {
   "cell_type": "code",
   "execution_count": 97,
   "metadata": {},
   "outputs": [],
   "source": [
    "X_train = Tensor(X_train)\n",
    "y_train_pred = np.array([0 if (model(x).item() < 0.5) else 1 for x in X_train])"
   ]
  },
  {
   "cell_type": "code",
   "execution_count": 98,
   "metadata": {},
   "outputs": [
    {
     "name": "stdout",
     "output_type": "stream",
     "text": [
      "True Negative rate (specificity):  1.0\n",
      "True positive rate (recall):  1.0\n",
      "False Negative Rate:  0.0\n",
      "False positive rate:  0.0\n",
      "Positive Likelihood ratio:  inf\n"
     ]
    },
    {
     "name": "stderr",
     "output_type": "stream",
     "text": [
      "C:\\Users\\valer\\AppData\\Local\\Temp\\ipykernel_7332\\80853097.py:10: RuntimeWarning: divide by zero encountered in scalar divide\n",
      "  print('Positive Likelihood ratio: ', TP/FP)\n"
     ]
    },
    {
     "data": {
      "image/png": "[encoded data removed]",
      "text/plain": [
       "<Figure size 640x480 with 2 Axes>"
      ]
     },
     "metadata": {},
     "output_type": "display_data"
    }
   ],
   "source": [
    "cm = confusion_matrix(y_train, y_train)\n",
    "cm_display = ConfusionMatrixDisplay(cm).plot()\n",
    "\n",
    "TN,TP,FP,FN = cm[0,0],cm[1,1],cm[0,1],cm[1,0]\n",
    "# Print some metrics alternative to prediction accuracy\n",
    "print('True Negative rate (specificity): ', TN/(TN+FN))\n",
    "print('True positive rate (recall): ', TP/(TP+FP))\n",
    "print('False Negative Rate: ', 1-TP/(TP+FP))\n",
    "print('False positive rate: ', 1-TN/(TN+FN))\n",
    "print('Positive Likelihood ratio: ', TP/FP)"
   ]
  },
  {
   "cell_type": "code",
   "execution_count": 99,
   "metadata": {},
   "outputs": [],
   "source": [
    "X_test = Tensor(X_test)\n",
    "y_test_pred = np.array([0 if (model(x).item() < 0.5) else 1 for x in X_test])"
   ]
  },
  {
   "cell_type": "code",
   "execution_count": 100,
   "metadata": {},
   "outputs": [
    {
     "name": "stdout",
     "output_type": "stream",
     "text": [
      "True Negative rate (specificity):  0.9671209413166518\n",
      "True positive rate (recall):  0.03441325221725427\n",
      "False Negative Rate:  0.9655867477827458\n",
      "False positive rate:  0.03287905868334817\n",
      "Positive Likelihood ratio:  0.03563973127870346\n"
     ]
    },
    {
     "data": {
      "image/png": "[encoded data removed]",
      "text/plain": [
       "<Figure size 640x480 with 2 Axes>"
      ]
     },
     "metadata": {},
     "output_type": "display_data"
    }
   ],
   "source": [
    "cm = confusion_matrix(y_test_pred, y_test)\n",
    "cm_display = ConfusionMatrixDisplay(cm).plot()\n",
    "\n",
    "TN,TP,FP,FN = cm[0,0],cm[1,1],cm[0,1],cm[1,0]\n",
    "# Print some metrics alternative to prediction accuracy\n",
    "print('True Negative rate (specificity): ', TN/(TN+FN))\n",
    "print('True positive rate (recall): ', TP/(TP+FP))\n",
    "print('False Negative Rate: ', 1-TP/(TP+FP))\n",
    "print('False positive rate: ', 1-TN/(TN+FN))\n",
    "print('Positive Likelihood ratio: ', TP/FP)"
   ]
  }
 ],
 "metadata": {
  "kernelspec": {
   "display_name": "ML",
   "language": "python",
   "name": "python3"
  },
  "language_info": {
   "codemirror_mode": {
    "name": "ipython",
    "version": 3
   },
   "file_extension": ".py",
   "mimetype": "text/x-python",
   "name": "python",
   "nbconvert_exporter": "python",
   "pygments_lexer": "ipython3",
   "version": "3.10.0"
  }
 },
 "nbformat": 4,
 "nbformat_minor": 2
}
