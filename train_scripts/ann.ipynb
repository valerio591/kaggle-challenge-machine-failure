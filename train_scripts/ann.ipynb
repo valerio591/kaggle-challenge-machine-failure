{
 "cells": [
  {
   "cell_type": "code",
   "execution_count": null,
   "metadata": {},
   "outputs": [],
   "source": [
    "from torch import nn, tanh \n",
    "\n",
    "# Construct ANN for classification\n",
    "class ANN(nn.Module):\n",
    "    def __init__(self):\n",
    "        super().__init__()\n",
    "        self.l1 = nn.Linear(14,28)\n",
    "        self.l2 = nn.Linear(28,28)\n",
    "        self.l3 = nn.Linear(28,14)\n",
    "        self.l4 = nn.Linear(14,1)\n",
    "    \n",
    "    def forward(self,x):\n",
    "        x = tanh(self.l1(x))  # Apply Tanh activation to the output of the first linear layer\n",
    "        x = tanh(self.l2(x))  # Apply Tanh activation to the output of the second linear layer\n",
    "        x = tanh(self.l3(x))\n",
    "        x = tanh(self.l4(x))\n",
    "        return x\n",
    "\n",
    "model = ANN()"
   ]
  },
  {
   "cell_type": "code",
   "execution_count": null,
   "metadata": {},
   "outputs": [],
   "source": []
  }
 ],
 "metadata": {
  "language_info": {
   "name": "python"
  }
 },
 "nbformat": 4,
 "nbformat_minor": 2
}
