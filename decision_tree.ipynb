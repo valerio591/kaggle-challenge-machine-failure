{
 "cells": [
  {
   "cell_type": "markdown",
   "metadata": {},
   "source": [
    "### Test decision tree"
   ]
  },
  {
   "cell_type": "code",
   "execution_count": null,
   "metadata": {},
   "outputs": [],
   "source": [
    "# Import libraries\n",
    "from sklearn import datasets, svm\n",
    "from sklearn.metrics import confusion_matrix,ConfusionMatrixDisplay\n",
    "from sklearn.preprocessing import StandardScaler\n",
    "import pandas as pd\n",
    "import numpy as np\n",
    "import matplotlib.pyplot as plt\n",
    "from matplotlib.cm import get_cmap\n",
    "\n",
    "df = pd.read_csv('./data/preprocessed.csv')\n",
    "\n",
    "# Scale data\n",
    "scaler = StandardScaler()\n",
    "for i in range(5):\n",
    "    df.iloc[:,i] = scaler.fit_transform(df.iloc[:,i].values.reshape(-1,1))"
   ]
  },
  {
   "cell_type": "markdown",
   "metadata": {},
   "source": [
    "Perform simple oversampling to avoid bias in the model"
   ]
  },
  {
   "cell_type": "code",
   "execution_count": null,
   "metadata": {},
   "outputs": [],
   "source": [
    "# Set pseudo-random number generator\n",
    "np.random.default_rng(seed=123)\n",
    "\n",
    "filter = lambda value: len(df['Machine failure'][df['Machine failure'] == value])\n",
    "# Build oversampled dataset\n",
    "machine_failures = df[df['Machine failure']==1].reset_index().drop('index', axis=1)\n",
    "oversampled_data = df.copy().values\n",
    "# Init count \n",
    "count = oversampled_data.shape[0]-1\n",
    "cond = df['Machine failure'] == 1\n",
    "for i in range(count - cond.sum()):\n",
    "    oversampled_data = np.vstack((oversampled_data,machine_failures.iloc[int(np.floor(np.random.uniform(0,filter(1)))),:].values))\n",
    "\n",
    "# Prepare data for training\n",
    "X = np.delete(oversampled_data,5, axis=1)\n",
    "y = oversampled_data[:,5]"
   ]
  },
  {
   "cell_type": "markdown",
   "metadata": {},
   "source": [
    "The decision tree on the oversampled dataset shows astonishing results in terms of both specificity and recall"
   ]
  },
  {
   "cell_type": "code",
   "execution_count": null,
   "metadata": {},
   "outputs": [],
   "source": [
    "from sklearn import tree\n",
    "clf = tree.DecisionTreeClassifier()\n",
    "clf = clf.fit(X, y)\n",
    "\n",
    "cm = confusion_matrix(clf.predict(X), y)\n",
    "cm_display = ConfusionMatrixDisplay(cm).plot()\n",
    "\n",
    "TN,TP,FP,FN = cm[0,0],cm[1,1],cm[0,1],cm[1,0]\n",
    "# Print some metrics alternative to prediction accuracy\n",
    "print('True Negative rate (specificity): ', TN/(TN+FN))\n",
    "print('True positive rate (recall): ', TP/(TP+FP))\n",
    "print('False Negative Rate: ', 1-TP/(TP+FP))\n",
    "print('False positive rate: ', 1-TN/(TN+FN))\n",
    "print('Positive Likelihood ratio: ', TP/FP)"
   ]
  },
  {
   "cell_type": "code",
   "execution_count": null,
   "metadata": {},
   "outputs": [],
   "source": [
    "# Save model with pickle\n",
    "import pickle\n",
    "import os\n",
    "models_dir = 'models'\n",
    "\n",
    "# Encoding of the filename is the following: modelname_KernelType_Cvalue_*otherParams.sav\n",
    "filename = 'decision_tree.sav'\n",
    "pickle.dump(clf, open(os.path.join(models_dir,filename), 'wb'))"
   ]
  }
 ],
 "metadata": {
  "language_info": {
   "name": "python"
  }
 },
 "nbformat": 4,
 "nbformat_minor": 2
}
